{
 "cells": [
  {
   "cell_type": "code",
   "execution_count": 1,
   "metadata": {},
   "outputs": [],
   "source": [
    "from PIL import Image\n",
    "import cv2\n",
    "import os.path\n",
    "import fnmatch\n",
    "import tensorflow as tf\n",
    "import keras_preprocessing\n",
    "from keras_preprocessing import image\n",
    "from keras_preprocessing.image import ImageDataGenerator, array_to_img, img_to_array, load_img"
   ]
  },
  {
   "cell_type": "code",
   "execution_count": 2,
   "metadata": {},
   "outputs": [],
   "source": [
    "path = \"C:\\check_image\\\\\"\n",
    "tr_path = path+\"train\\\\\"\n",
    "file_list = os.listdir(tr_path)\n",
    "file_list_png = [file for file in file_list if file.endswith(\".png\")]"
   ]
  },
  {
   "cell_type": "code",
   "execution_count": 3,
   "metadata": {
    "scrolled": true
   },
   "outputs": [],
   "source": [
    "for file_list in os.listdir(tr_path):\n",
    "        if file_list[3:4] == '1' :\n",
    "            phone = Image.open(tr_path+file_list)\n",
    "            phone.save(tr_path+\"1\\\\\"+file_list)\n",
    "        elif file_list[3:4] == '2' :        \n",
    "            pen = Image.open(tr_path+file_list)\n",
    "            pen.save(tr_path+\"2\\\\\"+file_list)\n",
    "        elif file_list[3:4] == '3' :        \n",
    "            mouse = Image.open(tr_path+file_list)\n",
    "            mouse.save(tr_path+\"3\\\\\"+file_list)\n",
    "        elif file_list[3:4] == '4' :        \n",
    "            glasses = Image.open(tr_path+file_list)\n",
    "            glasses.save(tr_path+\"4\\\\\"+file_list)\n",
    "        elif file_list[3:4] == '5' :        \n",
    "            bag = Image.open(tr_path+file_list)\n",
    "            bag.save(tr_path+\"5\\\\\"+file_list)\n",
    "        elif file_list[3:4] == '6' :        \n",
    "            marker = Image.open(tr_path+file_list)\n",
    "            marker.save(tr_path+\"6\\\\\"+file_list)"
   ]
  },
  {
   "cell_type": "code",
   "execution_count": 4,
   "metadata": {},
   "outputs": [],
   "source": [
    "val_path = path+\"validation\\\\\"\n",
    "file_list = os.listdir(val_path)\n",
    "file_list_png = [file for file in file_list if file.endswith(\".png\")]"
   ]
  },
  {
   "cell_type": "code",
   "execution_count": 5,
   "metadata": {},
   "outputs": [],
   "source": [
    "for file_list in os.listdir(val_path):\n",
    "        if file_list[3:4] == '1' :\n",
    "            phone = Image.open(val_path+file_list)\n",
    "            phone.save(val_path+\"1\\\\\"+file_list)\n",
    "        elif file_list[3:4] == '2' :        \n",
    "            pen = Image.open(val_path+file_list)\n",
    "            pen.save(val_path+\"2\\\\\"+file_list)\n",
    "        elif file_list[3:4] == '3' :        \n",
    "            mouse = Image.open(val_path+file_list)\n",
    "            mouse.save(val_path+\"3\\\\\"+file_list)\n",
    "        elif file_list[3:4] == '4' :        \n",
    "            glasses = Image.open(val_path+file_list)\n",
    "            glasses.save(val_path+\"4\\\\\"+file_list)\n",
    "        elif file_list[3:4] == '5' :        \n",
    "            bag = Image.open(val_path+file_list)\n",
    "            bag.save(val_path+\"5\\\\\"+file_list)\n",
    "        elif file_list[3:4] == '6' :        \n",
    "            marker = Image.open(val_path+file_list)\n",
    "            marker.save(val_path+\"6\\\\\"+file_list)"
   ]
  },
  {
   "cell_type": "code",
   "execution_count": 6,
   "metadata": {},
   "outputs": [],
   "source": [
    "TRAINING_DIR = tr_path\n",
    "training_datagen = ImageDataGenerator(\n",
    "    rescale = 1./255,\n",
    "    rotation_range=40,\n",
    "    width_shift_range=0.2,\n",
    "    height_shift_range=0.2,\n",
    "    shear_range=0.2,\n",
    "    zoom_range=0.2,\n",
    "    horizontal_flip=True,\n",
    "    fill_mode='nearest')"
   ]
  },
  {
   "cell_type": "code",
   "execution_count": 13,
   "metadata": {},
   "outputs": [
    {
     "name": "stdout",
     "output_type": "stream",
     "text": [
      "Found 300 images belonging to 6 classes.\n"
     ]
    }
   ],
   "source": [
    "VALIDATION_DIR = val_path\n",
    "validation_datagen = ImageDataGenerator(rescale = 1./255)\n",
    "\n",
    "train_generator = training_datagen.flow_from_directory(\n",
    "TRAINING_DIR,\n",
    "target_size=(150,150),\n",
    "class_mode='categorical',\n",
    "batch_size=15\n",
    ")"
   ]
  },
  {
   "cell_type": "code",
   "execution_count": 14,
   "metadata": {},
   "outputs": [
    {
     "name": "stdout",
     "output_type": "stream",
     "text": [
      "Found 120 images belonging to 6 classes.\n"
     ]
    }
   ],
   "source": [
    "validation_generator = validation_datagen.flow_from_directory(\n",
    "VALIDATION_DIR,\n",
    "target_size=(150,150),\n",
    "class_mode='categorical',\n",
    "batch_size=15\n",
    ")"
   ]
  },
  {
   "cell_type": "code",
   "execution_count": 15,
   "metadata": {},
   "outputs": [],
   "source": [
    "model = tf.keras.models.Sequential([\n",
    "  # Note the input shape is the desired size of the image 150x150 with 3 bytes color\n",
    "  # This is the first convolution\n",
    "  tf.keras.layers.Conv2D(64, (3,3), activation='relu', input_shape=(150, 150, 3)),\n",
    "  tf.keras.layers.MaxPooling2D(2, 2),\n",
    "  # The second convolution\n",
    "  tf.keras.layers.Conv2D(64, (3,3), activation='relu'),\n",
    "  tf.keras.layers.MaxPooling2D(2,2),\n",
    "  # The third convolution\n",
    "  tf.keras.layers.Conv2D(128, (3,3), activation='relu'),\n",
    "  tf.keras.layers.MaxPooling2D(2,2),\n",
    "  # The fourth convolution\n",
    "  tf.keras.layers.Conv2D(128, (3,3), activation='relu'),\n",
    "  tf.keras.layers.MaxPooling2D(2,2),\n",
    "  # Flatten the results to feed into a DNN\n",
    "  tf.keras.layers.Flatten(),\n",
    "  tf.keras.layers.Dropout(0.5),\n",
    "  # 512 neuron hidden layer\n",
    "  tf.keras.layers.Dense(512, activation='relu'),\n",
    "  tf.keras.layers.Dense(6, activation='softmax')\n",
    "])"
   ]
  },
  {
   "cell_type": "code",
   "execution_count": 16,
   "metadata": {},
   "outputs": [
    {
     "name": "stdout",
     "output_type": "stream",
     "text": [
      "Model: \"sequential_1\"\n",
      "_________________________________________________________________\n",
      "Layer (type)                 Output Shape              Param #   \n",
      "=================================================================\n",
      "conv2d_4 (Conv2D)            (None, 148, 148, 64)      1792      \n",
      "_________________________________________________________________\n",
      "max_pooling2d_4 (MaxPooling2 (None, 74, 74, 64)        0         \n",
      "_________________________________________________________________\n",
      "conv2d_5 (Conv2D)            (None, 72, 72, 64)        36928     \n",
      "_________________________________________________________________\n",
      "max_pooling2d_5 (MaxPooling2 (None, 36, 36, 64)        0         \n",
      "_________________________________________________________________\n",
      "conv2d_6 (Conv2D)            (None, 34, 34, 128)       73856     \n",
      "_________________________________________________________________\n",
      "max_pooling2d_6 (MaxPooling2 (None, 17, 17, 128)       0         \n",
      "_________________________________________________________________\n",
      "conv2d_7 (Conv2D)            (None, 15, 15, 128)       147584    \n",
      "_________________________________________________________________\n",
      "max_pooling2d_7 (MaxPooling2 (None, 7, 7, 128)         0         \n",
      "_________________________________________________________________\n",
      "flatten_1 (Flatten)          (None, 6272)              0         \n",
      "_________________________________________________________________\n",
      "dropout_1 (Dropout)          (None, 6272)              0         \n",
      "_________________________________________________________________\n",
      "dense_2 (Dense)              (None, 512)               3211776   \n",
      "_________________________________________________________________\n",
      "dense_3 (Dense)              (None, 6)                 3078      \n",
      "=================================================================\n",
      "Total params: 3,475,014\n",
      "Trainable params: 3,475,014\n",
      "Non-trainable params: 0\n",
      "_________________________________________________________________\n"
     ]
    }
   ],
   "source": [
    "model.summary()"
   ]
  },
  {
   "cell_type": "code",
   "execution_count": 17,
   "metadata": {},
   "outputs": [],
   "source": [
    "model.compile(loss = 'categorical_crossentropy', optimizer='rmsprop', metrics=['accuracy'])"
   ]
  },
  {
   "cell_type": "code",
   "execution_count": 18,
   "metadata": {
    "scrolled": false
   },
   "outputs": [
    {
     "name": "stdout",
     "output_type": "stream",
     "text": [
      "Epoch 1/50\n",
      "20/20 [==============================] - 15s 711ms/step - loss: 2.0874 - accuracy: 0.1933 - val_loss: 1.7916 - val_accuracy: 0.1778\n",
      "Epoch 2/50\n",
      "20/20 [==============================] - 14s 690ms/step - loss: 1.7982 - accuracy: 0.2200 - val_loss: 1.8059 - val_accuracy: 0.1333\n",
      "Epoch 3/50\n",
      "20/20 [==============================] - 15s 741ms/step - loss: 1.7847 - accuracy: 0.1867 - val_loss: 1.7391 - val_accuracy: 0.1556\n",
      "Epoch 4/50\n",
      "20/20 [==============================] - 14s 696ms/step - loss: 1.7956 - accuracy: 0.2833 - val_loss: 1.6802 - val_accuracy: 0.2222\n",
      "Epoch 5/50\n",
      "20/20 [==============================] - 14s 686ms/step - loss: 1.7274 - accuracy: 0.2833 - val_loss: 1.6649 - val_accuracy: 0.2333\n",
      "Epoch 6/50\n",
      "20/20 [==============================] - 15s 727ms/step - loss: 1.5650 - accuracy: 0.3467 - val_loss: 1.3981 - val_accuracy: 0.3889\n",
      "Epoch 7/50\n",
      "20/20 [==============================] - 14s 678ms/step - loss: 1.5897 - accuracy: 0.3733 - val_loss: 1.4403 - val_accuracy: 0.3667\n",
      "Epoch 8/50\n",
      "20/20 [==============================] - 14s 715ms/step - loss: 1.5529 - accuracy: 0.3500 - val_loss: 1.3648 - val_accuracy: 0.4000\n",
      "Epoch 9/50\n",
      "20/20 [==============================] - 14s 719ms/step - loss: 1.4736 - accuracy: 0.4067 - val_loss: 1.2959 - val_accuracy: 0.4444\n",
      "Epoch 10/50\n",
      "20/20 [==============================] - 14s 677ms/step - loss: 1.4453 - accuracy: 0.4133 - val_loss: 1.2598 - val_accuracy: 0.6111\n",
      "Epoch 11/50\n",
      "20/20 [==============================] - 16s 792ms/step - loss: 1.4231 - accuracy: 0.3967 - val_loss: 1.2842 - val_accuracy: 0.6000\n",
      "Epoch 12/50\n",
      "20/20 [==============================] - 16s 776ms/step - loss: 1.3709 - accuracy: 0.4267 - val_loss: 4.0216 - val_accuracy: 0.2667\n",
      "Epoch 13/50\n",
      "20/20 [==============================] - 14s 677ms/step - loss: 1.4848 - accuracy: 0.4467 - val_loss: 1.2955 - val_accuracy: 0.5222\n",
      "Epoch 14/50\n",
      "20/20 [==============================] - 14s 682ms/step - loss: 1.2652 - accuracy: 0.4900 - val_loss: 1.2293 - val_accuracy: 0.5444\n",
      "Epoch 15/50\n",
      "20/20 [==============================] - 14s 692ms/step - loss: 1.2749 - accuracy: 0.4933 - val_loss: 1.1981 - val_accuracy: 0.5778\n",
      "Epoch 16/50\n",
      "20/20 [==============================] - 15s 748ms/step - loss: 1.3089 - accuracy: 0.4733 - val_loss: 1.1011 - val_accuracy: 0.5444\n",
      "Epoch 17/50\n",
      "20/20 [==============================] - 14s 709ms/step - loss: 1.2938 - accuracy: 0.4933 - val_loss: 1.1532 - val_accuracy: 0.5556\n",
      "Epoch 18/50\n",
      "20/20 [==============================] - 14s 673ms/step - loss: 1.1902 - accuracy: 0.5333 - val_loss: 1.2328 - val_accuracy: 0.5778\n",
      "Epoch 19/50\n",
      "20/20 [==============================] - 15s 734ms/step - loss: 1.2311 - accuracy: 0.5300 - val_loss: 1.2115 - val_accuracy: 0.5444\n",
      "Epoch 20/50\n",
      "20/20 [==============================] - 15s 765ms/step - loss: 1.1637 - accuracy: 0.5133 - val_loss: 1.4455 - val_accuracy: 0.5667\n",
      "Epoch 21/50\n",
      "20/20 [==============================] - 14s 677ms/step - loss: 1.1624 - accuracy: 0.5600 - val_loss: 1.0785 - val_accuracy: 0.5556\n",
      "Epoch 22/50\n",
      "20/20 [==============================] - 14s 678ms/step - loss: 1.1952 - accuracy: 0.5533 - val_loss: 1.6316 - val_accuracy: 0.5667\n",
      "Epoch 23/50\n",
      "20/20 [==============================] - 14s 684ms/step - loss: 1.1616 - accuracy: 0.5533 - val_loss: 1.3027 - val_accuracy: 0.6667\n",
      "Epoch 24/50\n",
      "20/20 [==============================] - 14s 673ms/step - loss: 1.0981 - accuracy: 0.5800 - val_loss: 1.0189 - val_accuracy: 0.6111\n",
      "Epoch 25/50\n",
      "20/20 [==============================] - 14s 671ms/step - loss: 1.1666 - accuracy: 0.6100 - val_loss: 1.3709 - val_accuracy: 0.4889\n",
      "Epoch 26/50\n",
      "20/20 [==============================] - 14s 671ms/step - loss: 1.0965 - accuracy: 0.5933 - val_loss: 1.6704 - val_accuracy: 0.6000\n",
      "Epoch 27/50\n",
      "20/20 [==============================] - 13s 669ms/step - loss: 1.0605 - accuracy: 0.5767 - val_loss: 1.8648 - val_accuracy: 0.4889\n",
      "Epoch 28/50\n",
      "20/20 [==============================] - 14s 674ms/step - loss: 1.1842 - accuracy: 0.5700 - val_loss: 1.0296 - val_accuracy: 0.6667\n",
      "Epoch 29/50\n",
      "20/20 [==============================] - 14s 683ms/step - loss: 1.1491 - accuracy: 0.5467 - val_loss: 0.9673 - val_accuracy: 0.6222\n",
      "Epoch 30/50\n",
      "20/20 [==============================] - 14s 674ms/step - loss: 1.0396 - accuracy: 0.5900 - val_loss: 1.1478 - val_accuracy: 0.5778\n",
      "Epoch 31/50\n",
      "20/20 [==============================] - 14s 670ms/step - loss: 1.0607 - accuracy: 0.6533 - val_loss: 1.0666 - val_accuracy: 0.7000\n",
      "Epoch 32/50\n",
      "20/20 [==============================] - 14s 675ms/step - loss: 1.0772 - accuracy: 0.6067 - val_loss: 1.2656 - val_accuracy: 0.6333\n",
      "Epoch 33/50\n",
      "20/20 [==============================] - 14s 682ms/step - loss: 1.0322 - accuracy: 0.6233 - val_loss: 1.2848 - val_accuracy: 0.7000\n",
      "Epoch 34/50\n",
      "20/20 [==============================] - 14s 677ms/step - loss: 1.0328 - accuracy: 0.6167 - val_loss: 0.9645 - val_accuracy: 0.7111\n",
      "Epoch 35/50\n",
      "20/20 [==============================] - 14s 681ms/step - loss: 1.1214 - accuracy: 0.6333 - val_loss: 1.0350 - val_accuracy: 0.6333\n",
      "Epoch 36/50\n",
      "20/20 [==============================] - 14s 712ms/step - loss: 0.9479 - accuracy: 0.6267 - val_loss: 1.6975 - val_accuracy: 0.6111\n",
      "Epoch 37/50\n",
      "20/20 [==============================] - 13s 666ms/step - loss: 1.0340 - accuracy: 0.5933 - val_loss: 0.9902 - val_accuracy: 0.7111\n",
      "Epoch 38/50\n",
      "20/20 [==============================] - 13s 668ms/step - loss: 1.0361 - accuracy: 0.6033 - val_loss: 1.0824 - val_accuracy: 0.6111\n",
      "Epoch 39/50\n",
      "20/20 [==============================] - 14s 671ms/step - loss: 1.0331 - accuracy: 0.6200 - val_loss: 0.8858 - val_accuracy: 0.7222\n",
      "Epoch 40/50\n",
      "20/20 [==============================] - 13s 667ms/step - loss: 0.9886 - accuracy: 0.6533 - val_loss: 1.0924 - val_accuracy: 0.6667\n",
      "Epoch 41/50\n",
      "20/20 [==============================] - 14s 671ms/step - loss: 1.0706 - accuracy: 0.6167 - val_loss: 0.9692 - val_accuracy: 0.7333\n",
      "Epoch 42/50\n",
      "20/20 [==============================] - 14s 676ms/step - loss: 0.9668 - accuracy: 0.6167 - val_loss: 2.3646 - val_accuracy: 0.4778\n",
      "Epoch 43/50\n",
      "20/20 [==============================] - 14s 721ms/step - loss: 1.0269 - accuracy: 0.6567 - val_loss: 1.3655 - val_accuracy: 0.6556\n",
      "Epoch 44/50\n",
      "20/20 [==============================] - 14s 674ms/step - loss: 0.8920 - accuracy: 0.6367 - val_loss: 2.1563 - val_accuracy: 0.5889\n",
      "Epoch 45/50\n",
      "20/20 [==============================] - 13s 670ms/step - loss: 0.9592 - accuracy: 0.6800 - val_loss: 1.3137 - val_accuracy: 0.6444\n",
      "Epoch 46/50\n",
      "20/20 [==============================] - 13s 669ms/step - loss: 0.9491 - accuracy: 0.6833 - val_loss: 1.2640 - val_accuracy: 0.6333\n",
      "Epoch 47/50\n",
      "20/20 [==============================] - 14s 692ms/step - loss: 0.8964 - accuracy: 0.6600 - val_loss: 1.5572 - val_accuracy: 0.6222\n",
      "Epoch 48/50\n",
      "20/20 [==============================] - 14s 693ms/step - loss: 0.8335 - accuracy: 0.6733 - val_loss: 1.0354 - val_accuracy: 0.6556\n",
      "Epoch 49/50\n",
      "20/20 [==============================] - 14s 695ms/step - loss: 0.8779 - accuracy: 0.6800 - val_loss: 1.7957 - val_accuracy: 0.6556\n",
      "Epoch 50/50\n",
      "20/20 [==============================] - 14s 683ms/step - loss: 0.9901 - accuracy: 0.6300 - val_loss: 1.0157 - val_accuracy: 0.6444\n"
     ]
    }
   ],
   "source": [
    "history = model.fit(train_generator, epochs=50, steps_per_epoch=20, validation_data = validation_generator, verbose = 1, validation_steps=6)"
   ]
  },
  {
   "cell_type": "code",
   "execution_count": 19,
   "metadata": {},
   "outputs": [],
   "source": [
    "import matplotlib.pyplot as plt\n",
    "acc = history.history['accuracy']\n",
    "val_acc = history.history['val_accuracy']\n",
    "loss = history.history['loss']\n",
    "val_loss = history.history['val_loss']\n",
    "\n",
    "epochs = range(len(acc))"
   ]
  },
  {
   "cell_type": "code",
   "execution_count": 20,
   "metadata": {},
   "outputs": [
    {
     "data": {
      "image/png": "[encoded data removed]",
      "text/plain": [
       "<Figure size 432x288 with 1 Axes>"
      ]
     },
     "metadata": {
      "needs_background": "light"
     },
     "output_type": "display_data"
    },
    {
     "data": {
      "text/plain": [
       "<Figure size 432x288 with 0 Axes>"
      ]
     },
     "metadata": {},
     "output_type": "display_data"
    }
   ],
   "source": [
    "plt.plot(epochs, acc, 'r', label='Training accuracy')\n",
    "plt.plot(epochs, val_acc, 'b', label='Validation accuracy')\n",
    "plt.title('Training and validation accuracy')\n",
    "plt.legend(loc=0)\n",
    "plt.figure()\n",
    "plt.show()"
   ]
  },
  {
   "cell_type": "code",
   "execution_count": 21,
   "metadata": {},
   "outputs": [
    {
     "name": "stdout",
     "output_type": "stream",
     "text": [
      "8/8 [==============================] - 2s 194ms/step - loss: 0.9825 - accuracy: 0.6833\n",
      "Test accuracy: 0.6833333373069763\n"
     ]
    }
   ],
   "source": [
    "test_loss, test_accuracy = model.evaluate(validation_generator)\n",
    "print(\"Test accuracy: {}\".format(test_accuracy))"
   ]
  },
  {
   "cell_type": "code",
   "execution_count": 23,
   "metadata": {},
   "outputs": [],
   "source": [
    "predictions = model.predict(validation_generator)"
   ]
  },
  {
   "cell_type": "code",
   "execution_count": 36,
   "metadata": {},
   "outputs": [
    {
     "data": {
      "text/plain": [
       "array([8.1144983e-27, 7.6906492e-14, 2.4463524e-26, 1.3274183e-18,\n",
       "       1.5838765e-26, 1.0000000e+00], dtype=float32)"
      ]
     },
     "execution_count": 36,
     "metadata": {},
     "output_type": "execute_result"
    }
   ],
   "source": [
    "predictions[0]"
   ]
  },
  {
   "cell_type": "code",
   "execution_count": 41,
   "metadata": {},
   "outputs": [],
   "source": [
    "predictions1 = model.predict(train_generator)"
   ]
  },
  {
   "cell_type": "code",
   "execution_count": 26,
   "metadata": {},
   "outputs": [],
   "source": [
    "import numpy as np\n",
    "import matplotlib.pyplot as plt"
   ]
  },
  {
   "cell_type": "code",
   "execution_count": 55,
   "metadata": {},
   "outputs": [
    {
     "data": {
      "text/plain": [
       "1"
      ]
     },
     "execution_count": 55,
     "metadata": {},
     "output_type": "execute_result"
    }
   ],
   "source": [
    "np.argmax(predictions[23])"
   ]
  },
  {
   "cell_type": "code",
   "execution_count": 56,
   "metadata": {},
   "outputs": [
    {
     "data": {
      "text/plain": [
       "5"
      ]
     },
     "execution_count": 56,
     "metadata": {},
     "output_type": "execute_result"
    }
   ],
   "source": [
    "np.argmax(predictions1[23])"
   ]
  },
  {
   "cell_type": "code",
   "execution_count": null,
   "metadata": {},
   "outputs": [],
   "source": []
  }
 ],
 "metadata": {
  "kernelspec": {
   "display_name": "Python 3",
   "language": "python",
   "name": "python3"
  },
  "language_info": {
   "codemirror_mode": {
    "name": "ipython",
    "version": 3
   },
   "file_extension": ".py",
   "mimetype": "text/x-python",
   "name": "python",
   "nbconvert_exporter": "python",
   "pygments_lexer": "ipython3",
   "version": "3.8.8"
  }
 },
 "nbformat": 4,
 "nbformat_minor": 4
}
